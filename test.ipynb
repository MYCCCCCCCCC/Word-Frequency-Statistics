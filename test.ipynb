{
 "cells": [
  {
   "cell_type": "code",
   "execution_count": 7,
   "id": "06591e9b-7977-4fb7-8602-7c053b9baaeb",
   "metadata": {},
   "outputs": [
    {
     "name": "stderr",
     "output_type": "stream",
     "text": [
      "处理文件进度: 100%|██████████| 11957/11957 [2:03:31<00:00,  1.61it/s] \n"
     ]
    }
   ],
   "source": [
    "import os\n",
    "import re\n",
    "import pandas as pd\n",
    "import jieba\n",
    "from tqdm import tqdm\n",
    "\n",
    "# 定义要统计的关键词列表\n",
    "keywords = [\"人工智能\",\"商业智能\", \"图像理解\", \"投资决策辅助系统\", \"智能数据分析\", \"智能机器人\", \"机器学习\", \"深度学习\", \"语义搜索\", \"生物识别技术\", \"人脸识别\", \"语音识别\", \"身份验证\", \"自动驾驶\", \"自然语言处理\", \"大数据\", \"数据挖掘\", \"文本挖掘\", \"数据可视化\", \"异构数据\", \"征信\", \"增强现实\", \"混合现实\", \"虚拟现实\", \"云计算\", \"流计算\", \"图计算\", \"内存计算\", \"多方安全计算\", \"类脑计算\", \"绿色计算\", \"认知计算\", \"融合架构\", \"亿级并发\", \"EB 级存储\", \"物联网\", \"信息物理系统\", \"区块链\", \"数字货币\", \"分布式计算\", \"差分隐私技术\", \"智能金融合约\", \"移动互联网\", \"工业互联网\", \"移动互联\", \"互联网医疗\", \"电子商务\", \"移动支付\", \"第三方支付\", \"NFC 支付\", \"智能能源\", \"B2B\", \"B2C\", \"C2B\", \"C2C\", \"O2O\", \"网联\", \"智能穿戴\", \"智慧农业\", \"智能交通\", \"智能医疗\", \"智能客服\", \"智能家居\", \"智能投顾\", \"智能文旅\", \"智能环保\", \"智能电网\", \"智能营销\", \"数字营销\", \"无人零售\", \"互联网金融\", \"数字金融\", \"Fintech\", \"金融科技\", \"量化金融\", \"开放银行\"]\n",
    "\n",
    "# 提前创建好外层的公司代码字典结构，避免每次都判断是否存在\n",
    "result_dict = {}\n",
    "\n",
    "#扩增词典\n",
    "for eachadd in keywords:\n",
    "    jieba.add_word(eachadd)\n",
    "\n",
    "# 遍历文件夹\n",
    "folder_path = \"C:/Users/myc/Desktop/A股年报TXT\"  # 将这里替换为实际的文件夹路径\n",
    "file_paths = [os.path.join(folder_path, file_name) for file_name in os.listdir(folder_path) if file_name.endswith(\".txt\")]\n",
    "os.chdir(folder_path)\n",
    "\n",
    "with tqdm(total=len(file_paths), desc=\"处理文件进度\") as pbar:\n",
    "    for file_path in file_paths:\n",
    "        # 从文件名中提取公司代码（数字形式）和年份信息\n",
    "        file_name = os.path.basename(file_path)\n",
    "        match = re.match(r\"(\\d+)_(\\d{4})_.+\", file_name)\n",
    "        if match:\n",
    "            company_code = match.group(1)\n",
    "            year = match.group(2)\n",
    "            if company_code not in result_dict:\n",
    "                result_dict[company_code] = {}\n",
    "            with open(file_path, 'r', encoding='utf-8') as file:\n",
    "                content = file.read()\n",
    "                words = jieba.lcut(content)\n",
    "                text_word_count = len(words)\n",
    "                if year not in result_dict[company_code]:\n",
    "                    result_dict[company_code][year] = {}\n",
    "                    result_dict[company_code][year][\"总词数\"] = 0\n",
    "                for keyword in keywords:\n",
    "                    count = words.count(keyword)\n",
    "                    result_dict[company_code][year][keyword] = count\n",
    "                    result_dict[company_code][year][\"总词数\"] += count\n",
    "                result_dict[company_code][year][\"文本词数\"] = text_word_count\n",
    "        pbar.update(1)\n",
    "\n",
    "data = []\n",
    "for company_code, years_data in result_dict.items():\n",
    "    for year, keyword_counts in years_data.items():\n",
    "        row = {\"公司代码\": company_code, \"年份\": year}\n",
    "        row.update(keyword_counts)\n",
    "        data.append(row)\n",
    "\n",
    "df = pd.DataFrame(data)\n",
    "df.to_csv(\"result.csv\", index=False)"
   ]
  }
 ],
 "metadata": {
  "kernelspec": {
   "display_name": "Python 3 (ipykernel)",
   "language": "python",
   "name": "python3"
  },
  "language_info": {
   "codemirror_mode": {
    "name": "ipython",
    "version": 3
   },
   "file_extension": ".py",
   "mimetype": "text/x-python",
   "name": "python",
   "nbconvert_exporter": "python",
   "pygments_lexer": "ipython3",
   "version": "3.12.4"
  }
 },
 "nbformat": 4,
 "nbformat_minor": 5
}
